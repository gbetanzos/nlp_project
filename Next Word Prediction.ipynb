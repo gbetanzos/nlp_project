{
 "cells": [
  {
   "cell_type": "code",
   "execution_count": 1,
   "id": "37b1a6ae",
   "metadata": {},
   "outputs": [],
   "source": [
    "import numpy as np\n",
    "from nltk.tokenize import RegexpTokenizer\n",
    "from keras.preprocessing.text import Tokenizer\n",
    "from keras.models import Sequential, load_model\n",
    "from keras.layers import LSTM\n",
    "from keras.layers.core import Dense, Activation\n",
    "from keras.optimizers import RMSprop\n",
    "import matplotlib.pyplot as plt\n",
    "import pickle\n",
    "import heapq"
   ]
  },
  {
   "cell_type": "code",
   "execution_count": 2,
   "id": "9300e6b1",
   "metadata": {},
   "outputs": [
    {
     "name": "stdout",
     "output_type": "stream",
     "text": [
      "corpus length: 423923\n"
     ]
    }
   ],
   "source": [
    "path = 'lnr.txt'\n",
    "text = open(path, encoding=\"utf-8\").read().lower() + open(\"novelas.txt\", encoding=\"utf-8\").read().lower()\n",
    "print('corpus length:', len(text))"
   ]
  },
  {
   "cell_type": "code",
   "execution_count": 3,
   "id": "69f75827",
   "metadata": {},
   "outputs": [],
   "source": [
    "tokenizer = RegexpTokenizer(r'\\b\\w+\\b')\n",
    "words = tokenizer.tokenize(text)"
   ]
  },
  {
   "cell_type": "code",
   "execution_count": 4,
   "id": "4d92f972",
   "metadata": {},
   "outputs": [],
   "source": [
    "unique_words = np.unique(words)\n",
    "unique_word_index = dict((c, i) for i, c in enumerate(unique_words))"
   ]
  },
  {
   "cell_type": "code",
   "execution_count": 5,
   "id": "f379ec61",
   "metadata": {},
   "outputs": [
    {
     "name": "stdout",
     "output_type": "stream",
     "text": [
      "['biblioteca', 'de', 'la', 'nación', 'h']\n",
      "conscience\n"
     ]
    }
   ],
   "source": [
    "WORD_LENGTH = 5\n",
    "prev_words = []\n",
    "next_words = []\n",
    "for i in range(len(words) - WORD_LENGTH):\n",
    "    prev_words.append(words[i:i + WORD_LENGTH])\n",
    "    next_words.append(words[i + WORD_LENGTH])\n",
    "print(prev_words[0])\n",
    "print(next_words[0])"
   ]
  },
  {
   "cell_type": "code",
   "execution_count": 6,
   "id": "af34e7f2",
   "metadata": {},
   "outputs": [],
   "source": [
    "X = np.zeros((len(prev_words), WORD_LENGTH, len(unique_words)), dtype=bool)\n",
    "Y = np.zeros((len(next_words), len(unique_words)), dtype=bool)\n",
    "for i, each_words in enumerate(prev_words):\n",
    "    for j, each_word in enumerate(each_words):\n",
    "        X[i, j, unique_word_index[each_word]] = 1\n",
    "    Y[i, unique_word_index[next_words[i]]] = 1"
   ]
  },
  {
   "cell_type": "code",
   "execution_count": 7,
   "id": "65c12007",
   "metadata": {},
   "outputs": [
    {
     "name": "stdout",
     "output_type": "stream",
     "text": [
      "[False False False ... False False False]\n"
     ]
    }
   ],
   "source": [
    "print(X[0][0])"
   ]
  },
  {
   "cell_type": "code",
   "execution_count": 8,
   "id": "53e41dc8",
   "metadata": {},
   "outputs": [],
   "source": [
    "model = Sequential()\n",
    "model.add(LSTM(128, input_shape=(WORD_LENGTH, len(unique_words))))\n",
    "model.add(Dense(len(unique_words)))\n",
    "model.add(Activation('softmax'))"
   ]
  },
  {
   "cell_type": "code",
   "execution_count": 9,
   "id": "c99a4932",
   "metadata": {},
   "outputs": [
    {
     "name": "stdout",
     "output_type": "stream",
     "text": [
      "Epoch 1/50\n",
      "530/530 [==============================] - 341s 477ms/step - loss: 7.0051 - accuracy: 0.0546 - val_loss: 6.9146 - val_accuracy: 0.0757\n",
      "Epoch 2/50\n",
      "530/530 [==============================] - 245s 463ms/step - loss: 6.1223 - accuracy: 0.1134 - val_loss: 7.1126 - val_accuracy: 0.0830\n",
      "Epoch 3/50\n",
      "530/530 [==============================] - 252s 476ms/step - loss: 5.9631 - accuracy: 0.1518 - val_loss: 7.5718 - val_accuracy: 0.0863\n",
      "Epoch 4/50\n",
      "530/530 [==============================] - 245s 462ms/step - loss: 5.8661 - accuracy: 0.1984 - val_loss: 8.0426 - val_accuracy: 0.0883\n",
      "Epoch 5/50\n",
      "530/530 [==============================] - 248s 469ms/step - loss: 5.4935 - accuracy: 0.2594 - val_loss: 8.2500 - val_accuracy: 0.0746\n",
      "Epoch 6/50\n",
      "530/530 [==============================] - 223s 421ms/step - loss: 5.0163 - accuracy: 0.3295 - val_loss: 8.3617 - val_accuracy: 0.0709\n",
      "Epoch 7/50\n",
      "530/530 [==============================] - 226s 426ms/step - loss: 4.7152 - accuracy: 0.3824 - val_loss: 8.4420 - val_accuracy: 0.0701\n",
      "Epoch 8/50\n",
      "530/530 [==============================] - 271s 510ms/step - loss: 4.4642 - accuracy: 0.4315 - val_loss: 8.4681 - val_accuracy: 0.0628\n",
      "Epoch 9/50\n",
      "530/530 [==============================] - 265s 500ms/step - loss: 4.3321 - accuracy: 0.4718 - val_loss: 8.5072 - val_accuracy: 0.0645\n",
      "Epoch 10/50\n",
      "530/530 [==============================] - 282s 532ms/step - loss: 4.2092 - accuracy: 0.5026 - val_loss: 8.7005 - val_accuracy: 0.0667\n",
      "Epoch 11/50\n",
      "530/530 [==============================] - 293s 553ms/step - loss: 4.0789 - accuracy: 0.5313 - val_loss: 8.8982 - val_accuracy: 0.0625\n",
      "Epoch 12/50\n",
      "530/530 [==============================] - 332s 627ms/step - loss: 3.9712 - accuracy: 0.5574 - val_loss: 8.9495 - val_accuracy: 0.0577\n",
      "Epoch 13/50\n",
      "530/530 [==============================] - 304s 574ms/step - loss: 3.8732 - accuracy: 0.5801 - val_loss: 9.0175 - val_accuracy: 0.0507\n",
      "Epoch 14/50\n",
      "530/530 [==============================] - 311s 587ms/step - loss: 3.8127 - accuracy: 0.5923 - val_loss: 8.9472 - val_accuracy: 0.0575\n",
      "Epoch 15/50\n",
      "530/530 [==============================] - 290s 547ms/step - loss: 3.7323 - accuracy: 0.6060 - val_loss: 8.8217 - val_accuracy: 0.0597\n",
      "Epoch 16/50\n",
      "530/530 [==============================] - 289s 545ms/step - loss: 3.7150 - accuracy: 0.6110 - val_loss: 9.0176 - val_accuracy: 0.0580\n",
      "Epoch 17/50\n",
      "530/530 [==============================] - 253s 477ms/step - loss: 3.6734 - accuracy: 0.6216 - val_loss: 9.0039 - val_accuracy: 0.0507\n",
      "Epoch 18/50\n",
      "530/530 [==============================] - 263s 496ms/step - loss: 3.6318 - accuracy: 0.6267 - val_loss: 9.0314 - val_accuracy: 0.0521\n",
      "Epoch 19/50\n",
      "530/530 [==============================] - 265s 500ms/step - loss: 3.5906 - accuracy: 0.6344 - val_loss: 9.0376 - val_accuracy: 0.0527\n",
      "Epoch 20/50\n",
      "530/530 [==============================] - 278s 525ms/step - loss: 3.5211 - accuracy: 0.6422 - val_loss: 9.0990 - val_accuracy: 0.0521\n",
      "Epoch 21/50\n",
      "530/530 [==============================] - 261s 493ms/step - loss: 3.5124 - accuracy: 0.6452 - val_loss: 9.0632 - val_accuracy: 0.0575\n",
      "Epoch 22/50\n",
      "530/530 [==============================] - 277s 523ms/step - loss: 3.5068 - accuracy: 0.6473 - val_loss: 9.0628 - val_accuracy: 0.0507\n",
      "Epoch 23/50\n",
      "530/530 [==============================] - 263s 496ms/step - loss: 3.4359 - accuracy: 0.6561 - val_loss: 8.9555 - val_accuracy: 0.0569\n",
      "Epoch 24/50\n",
      "530/530 [==============================] - 255s 481ms/step - loss: 3.4220 - accuracy: 0.6593 - val_loss: 9.0492 - val_accuracy: 0.0460\n",
      "Epoch 25/50\n",
      "530/530 [==============================] - 246s 465ms/step - loss: 3.4062 - accuracy: 0.6613 - val_loss: 9.0985 - val_accuracy: 0.0504\n",
      "Epoch 26/50\n",
      "530/530 [==============================] - 283s 535ms/step - loss: 3.3942 - accuracy: 0.6644 - val_loss: 9.0206 - val_accuracy: 0.0533\n",
      "Epoch 27/50\n",
      "530/530 [==============================] - 267s 504ms/step - loss: 3.3862 - accuracy: 0.6660 - val_loss: 8.9961 - val_accuracy: 0.0541\n",
      "Epoch 28/50\n",
      "530/530 [==============================] - 262s 494ms/step - loss: 3.3120 - accuracy: 0.6733 - val_loss: 9.0526 - val_accuracy: 0.0516\n",
      "Epoch 29/50\n",
      "530/530 [==============================] - 253s 477ms/step - loss: 3.3188 - accuracy: 0.6744 - val_loss: 9.0002 - val_accuracy: 0.0502\n",
      "Epoch 30/50\n",
      "530/530 [==============================] - 253s 478ms/step - loss: 3.3480 - accuracy: 0.6717 - val_loss: 9.0274 - val_accuracy: 0.0563\n",
      "Epoch 31/50\n",
      "530/530 [==============================] - 257s 485ms/step - loss: 3.3219 - accuracy: 0.6741 - val_loss: 9.0867 - val_accuracy: 0.0502\n",
      "Epoch 32/50\n",
      "530/530 [==============================] - 259s 488ms/step - loss: 3.2888 - accuracy: 0.6770 - val_loss: 9.0725 - val_accuracy: 0.0535\n",
      "Epoch 33/50\n",
      "530/530 [==============================] - 256s 483ms/step - loss: 3.2792 - accuracy: 0.6785 - val_loss: 9.0564 - val_accuracy: 0.0451\n",
      "Epoch 34/50\n",
      "530/530 [==============================] - 267s 504ms/step - loss: 3.2607 - accuracy: 0.6790 - val_loss: 9.0412 - val_accuracy: 0.0513\n",
      "Epoch 35/50\n",
      "530/530 [==============================] - 244s 461ms/step - loss: 3.2449 - accuracy: 0.6822 - val_loss: 9.0190 - val_accuracy: 0.0479\n",
      "Epoch 36/50\n",
      "530/530 [==============================] - 252s 476ms/step - loss: 3.2197 - accuracy: 0.6835 - val_loss: 9.0461 - val_accuracy: 0.0465\n",
      "Epoch 37/50\n",
      "530/530 [==============================] - 240s 452ms/step - loss: 3.1997 - accuracy: 0.6871 - val_loss: 8.9902 - val_accuracy: 0.0462\n",
      "Epoch 38/50\n",
      "530/530 [==============================] - 208s 392ms/step - loss: 3.2303 - accuracy: 0.6851 - val_loss: 9.0227 - val_accuracy: 0.0482\n",
      "Epoch 39/50\n",
      "530/530 [==============================] - 209s 395ms/step - loss: 3.1856 - accuracy: 0.6927 - val_loss: 8.9898 - val_accuracy: 0.0513\n",
      "Epoch 40/50\n",
      "530/530 [==============================] - 209s 395ms/step - loss: 3.1787 - accuracy: 0.6912 - val_loss: 9.0894 - val_accuracy: 0.0448\n",
      "Epoch 41/50\n",
      "530/530 [==============================] - 214s 403ms/step - loss: 3.1845 - accuracy: 0.6914 - val_loss: 9.0070 - val_accuracy: 0.0451\n",
      "Epoch 42/50\n",
      "530/530 [==============================] - 210s 395ms/step - loss: 3.1747 - accuracy: 0.6923 - val_loss: 9.0204 - val_accuracy: 0.0493\n",
      "Epoch 43/50\n",
      "530/530 [==============================] - 207s 391ms/step - loss: 3.1433 - accuracy: 0.6957 - val_loss: 9.0489 - val_accuracy: 0.0460\n",
      "Epoch 44/50\n",
      "530/530 [==============================] - 202s 382ms/step - loss: 3.1730 - accuracy: 0.6921 - val_loss: 9.0863 - val_accuracy: 0.0504\n",
      "Epoch 45/50\n",
      "530/530 [==============================] - 206s 388ms/step - loss: 3.1556 - accuracy: 0.6941 - val_loss: 9.0315 - val_accuracy: 0.0474\n",
      "Epoch 46/50\n",
      "530/530 [==============================] - 221s 416ms/step - loss: 3.1212 - accuracy: 0.6967 - val_loss: 9.0988 - val_accuracy: 0.0454\n",
      "Epoch 47/50\n",
      "530/530 [==============================] - 218s 411ms/step - loss: 3.1378 - accuracy: 0.6948 - val_loss: 9.0403 - val_accuracy: 0.0485\n",
      "Epoch 48/50\n",
      "530/530 [==============================] - 204s 385ms/step - loss: 3.1448 - accuracy: 0.6948 - val_loss: 9.0598 - val_accuracy: 0.0468\n",
      "Epoch 49/50\n",
      "530/530 [==============================] - 200s 378ms/step - loss: 3.0894 - accuracy: 0.7029 - val_loss: 9.0438 - val_accuracy: 0.0468\n",
      "Epoch 50/50\n",
      "530/530 [==============================] - 193s 365ms/step - loss: 3.1047 - accuracy: 0.7009 - val_loss: 9.0134 - val_accuracy: 0.0482\n"
     ]
    }
   ],
   "source": [
    "optimizer = RMSprop(learning_rate=0.01)\n",
    "model.compile(loss='categorical_crossentropy', optimizer=optimizer, metrics=['accuracy'])\n",
    "history = model.fit(X, Y, validation_split=0.05, batch_size=128, epochs=50, shuffle=True).history"
   ]
  },
  {
   "cell_type": "code",
   "execution_count": 10,
   "id": "f9593802",
   "metadata": {},
   "outputs": [],
   "source": [
    "#unique_words = np.unique(words)\n",
    "#unique_word_index = dict((c, i) for i, c in enumerate(unique_words))\n",
    "\n",
    "model.save('keras_next_word_model.h5')\n",
    "pickle.dump(history, open(\"history.p\", \"wb\"))\n",
    "model = load_model('keras_next_word_model.h5')\n",
    "history = pickle.load(open(\"history.p\", \"rb\"))"
   ]
  },
  {
   "cell_type": "code",
   "execution_count": 11,
   "id": "e8bfc4b5",
   "metadata": {},
   "outputs": [
    {
     "data": {
      "text/plain": [
       "<matplotlib.legend.Legend at 0x205d3acddd8>"
      ]
     },
     "execution_count": 11,
     "metadata": {},
     "output_type": "execute_result"
    },
    {
     "data": {
      "image/png": "[encoded data removed]",
      "text/plain": [
       "<Figure size 432x288 with 1 Axes>"
      ]
     },
     "metadata": {
      "needs_background": "light"
     },
     "output_type": "display_data"
    }
   ],
   "source": [
    "plt.plot(history['accuracy'])\n",
    "plt.plot(history['val_accuracy'])\n",
    "plt.title('model accuracy')\n",
    "plt.ylabel('accuracy')\n",
    "plt.xlabel('epoch')\n",
    "plt.legend(['train', 'test'], loc='upper left')"
   ]
  },
  {
   "cell_type": "code",
   "execution_count": 12,
   "id": "9b38ac96",
   "metadata": {},
   "outputs": [
    {
     "data": {
      "text/plain": [
       "<matplotlib.legend.Legend at 0x205d3c0deb8>"
      ]
     },
     "execution_count": 12,
     "metadata": {},
     "output_type": "execute_result"
    },
    {
     "data": {
      "image/png": "[encoded data removed]",
      "text/plain": [
       "<Figure size 432x288 with 1 Axes>"
      ]
     },
     "metadata": {
      "needs_background": "light"
     },
     "output_type": "display_data"
    }
   ],
   "source": [
    "plt.plot(history['loss'])\n",
    "plt.plot(history['val_loss'])\n",
    "plt.title('model loss')\n",
    "plt.ylabel('loss')\n",
    "plt.xlabel('epoch')\n",
    "plt.legend(['train', 'test'], loc='upper left')"
   ]
  },
  {
   "cell_type": "code",
   "execution_count": 13,
   "id": "40190bf2",
   "metadata": {},
   "outputs": [],
   "source": [
    "def prepare_input(text):\n",
    "    x = np.zeros((1, WORD_LENGTH, len(unique_words)))\n",
    "    for t, word in enumerate(text.split()):\n",
    "        print(word)\n",
    "        x[0, t, unique_word_index[word]] = 1\n",
    "    return x"
   ]
  },
  {
   "cell_type": "code",
   "execution_count": 14,
   "id": "a9956eb2",
   "metadata": {},
   "outputs": [
    {
     "name": "stdout",
     "output_type": "stream",
     "text": [
      "la\n",
      "niña\n",
      "era\n"
     ]
    },
    {
     "data": {
      "text/plain": [
       "array([[[0., 0., 0., ..., 0., 0., 0.],\n",
       "        [0., 0., 0., ..., 0., 0., 0.],\n",
       "        [0., 0., 0., ..., 0., 0., 0.],\n",
       "        [0., 0., 0., ..., 0., 0., 0.],\n",
       "        [0., 0., 0., ..., 0., 0., 0.]]])"
      ]
     },
     "execution_count": 14,
     "metadata": {},
     "output_type": "execute_result"
    }
   ],
   "source": [
    "prepare_input(\"la niña era\")"
   ]
  },
  {
   "cell_type": "code",
   "execution_count": 15,
   "id": "88cd5e61",
   "metadata": {},
   "outputs": [],
   "source": [
    "def sample(preds, top_n=3):\n",
    "    preds = np.asarray(preds).astype('float64')\n",
    "    preds = np.log(preds)\n",
    "    exp_preds = np.exp(preds)\n",
    "    preds = exp_preds / np.sum(exp_preds)\n",
    "\n",
    "    return heapq.nlargest(top_n, range(len(preds)), preds.take)"
   ]
  },
  {
   "cell_type": "code",
   "execution_count": 16,
   "id": "4a01fe91",
   "metadata": {},
   "outputs": [],
   "source": [
    "def predict_completions(text, n=3):\n",
    "    if text == \"\":\n",
    "        return(\"0\")\n",
    "    x = prepare_input(text)\n",
    "    preds = model.predict(x, verbose=0)[0]\n",
    "    next_indices = sample(preds, n)\n",
    "    return [unique_words[idx] for idx in next_indices]"
   ]
  },
  {
   "cell_type": "code",
   "execution_count": 27,
   "id": "142afc9b",
   "metadata": {},
   "outputs": [
    {
     "name": "stdout",
     "output_type": "stream",
     "text": [
      "correct sentence:  en mi mano para usted\n",
      "Sequence:  en mi mano para usted\n",
      "en\n",
      "mi\n",
      "mano\n",
      "para\n",
      "usted\n",
      "next possible words:  ['le', 'esta', 'un', 'hablar', 'la']\n"
     ]
    }
   ],
   "source": [
    "q = \"en mi mano para usted\"\n",
    "print(\"correct sentence: \",q)\n",
    "seq = \" \".join(tokenizer.tokenize(q.lower())[0:5])\n",
    "print(\"Sequence: \",seq)\n",
    "print(\"next possible words: \", predict_completions(seq, 5))"
   ]
  },
  {
   "cell_type": "code",
   "execution_count": null,
   "id": "1bee6f11",
   "metadata": {},
   "outputs": [],
   "source": []
  },
  {
   "cell_type": "code",
   "execution_count": null,
   "id": "f939bdc3",
   "metadata": {},
   "outputs": [],
   "source": []
  }
 ],
 "metadata": {
  "kernelspec": {
   "display_name": "tf",
   "language": "python",
   "name": "tf"
  },
  "language_info": {
   "codemirror_mode": {
    "name": "ipython",
    "version": 3
   },
   "file_extension": ".py",
   "mimetype": "text/x-python",
   "name": "python",
   "nbconvert_exporter": "python",
   "pygments_lexer": "ipython3",
   "version": "3.7.3"
  }
 },
 "nbformat": 4,
 "nbformat_minor": 5
}
