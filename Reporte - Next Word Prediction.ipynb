{
 "cells": [
  {
   "cell_type": "markdown",
   "metadata": {},
   "source": [
    "<div align=\"left\">\n",
    "<img align=\"left\" src=\"./Data/logo-alinnco.png\">\n",
    "</div>"
   ]
  },
  {
   "cell_type": "markdown",
   "metadata": {},
   "source": [
    "## Maestría en Inteligencia Artificial - Procesamiento de Lenguaje Natural\n",
    "### Profesor: Dr. Gaddiel Desirena López\n",
    "### Integrantes del equipo\n",
    "* Guillermo Betanzos\n",
    "* Luis Landeros\n",
    "* Sergio Rojas\n",
    "* Alberto Torres\n",
    "\n",
    "#### Índice\n",
    "[Objetivo](#objetivo)<br>\n",
    "[Corpus](#corpus)<br>\n",
    "[Tokenización](#tokenizacion)<br>\n",
    "[Modelo](#modelo)<br>\n",
    "[Modelo: Entrenamiento](#entrenamiento)<br>\n",
    "[Modelo: Evaluación](#evaluacion)<br>\n",
    "[Modelo: Pruebas](#pruebas)<br>\n",
    "[Conclusiones](#conclusiones)<br>"
   ]
  },
  {
   "cell_type": "markdown",
   "metadata": {},
   "source": [
    "### <a id='objetivo'>Objetivo</a>\n",
    "\n",
    "El procesamiento del lenguaje natural tiene como objetivo fundamental lograr una comunicación maquina-humano similar a la comunicación humano-humano.\n",
    "\n",
    "El objetivo principal del PLN es hacer que las máquinas comprendan textos no estructurados y exigan la información relevante de esos textos. Este se centra en el análisis de las comunicaciones humanas, en concreto de su propio lenguaje. Ante la gran cantidad de información en texto que generamos actualmente, surge la posibilidad de analizarla y aprovecharla. Las técnicas de PLN permiten extraer insights automáticamente de la información disponible en cualquier sector.\n",
    "\n",
    "El objetivo de este proyecto, es el desarrollar una solución utilizando el Procesamiento de Lenguaje Natural para la predicción de palabras."
   ]
  },
  {
   "cell_type": "code",
   "execution_count": 26,
   "metadata": {},
   "outputs": [],
   "source": [
    "import os\n",
    "import numpy as np\n",
    "np.random.seed(42)\n",
    "import tensorflow as tf\n",
    "tf.random.set_seed(42)\n",
    "from keras.models import Sequential, load_model\n",
    "from keras.layers import Dense, Activation\n",
    "from keras.layers import LSTM, Dropout\n",
    "from keras.layers import TimeDistributed\n",
    "from keras.layers.core import Dense, Activation, Dropout, RepeatVector\n",
    "from tensorflow.keras.optimizers import RMSprop\n",
    "import matplotlib.pyplot as plt\n",
    "import pickle\n",
    "import sys\n",
    "import heapq\n",
    "import seaborn as sns\n",
    "from pylab import rcParams\n",
    "%matplotlib inline\n",
    "sns.set(style='whitegrid', palette='muted', font_scale=1.5)\n",
    "rcParams['figure.figsize'] = 12, 5\n",
    "os.environ[\"CUDA_VISIBLE_DEVICES\"]=\"-1\"    \n",
    "tf.compat.v1.disable_eager_execution()"
   ]
  },
  {
   "cell_type": "code",
   "execution_count": 2,
   "metadata": {},
   "outputs": [
    {
     "name": "stdout",
     "output_type": "stream",
     "text": [
      "corpus length: 351052\n"
     ]
    }
   ],
   "source": [
    "path = 'araña.txt'\n",
    "text = open(path, 'r', encoding='utf-8').read().replace('\\n', ' ').lower()\n",
    "print('corpus length:', len(text))"
   ]
  },
  {
   "cell_type": "markdown",
   "metadata": {},
   "source": [
    "### <a id='corpus'>Corpus</a>\n",
    "\n",
    "Hay pasos que puede seguir para preprocesar datos en lenguaje natural, de modo que el modelado que lleve a cabo en sentido descendente sea más preciso. Las opciones comunes de preprocesamiento de lenguaje natural incluyen:\n",
    "* Tokenización\n",
    "* Convertir caracteres a minúsculas\n",
    "* Remoción de palabras vacías\n",
    "* Eliminación de la puntuación\n",
    "* Stemming\n",
    "* Manejo de n-gramas\n",
    "\n",
    "Para la elección del corpus del proyecto se consideró inicialmente el proyecto <a href=\"https://www.gutenberg.org/browse/languages/es\" target=\"_blank\">Gutenberg</a>, desafortunadamente los resultados obtenidos no fueron esperados ya que no se encontró congruencia alguna entre el texto proporcionado al modelo y la salida.\n",
    "\n",
    "En vista de los resultados obtenidos procedimos a buscar corpus que fuesen más ricos en datos, tales como los corpus compuestos por Wikipedia, desafortunadamente las necesidades de recursos para procesar dichos corpus son demandantes en demasía.\n",
    "\n",
    "\n",
    "<img src=\"./Data/memory.png\">\n",
    "<div align=\"center\">Figura 1. Desbordamiento de memoria</div>\n",
    "\n",
    "De tal suerte que dados los resultados en la elección del corpus hasta el momento se procedió a elegir uno que fuese relativamente más pequeño pero con contenido regionalizado, del mismo proyecto Gutenberg."
   ]
  },
  {
   "cell_type": "code",
   "execution_count": 3,
   "metadata": {},
   "outputs": [
    {
     "name": "stdout",
     "output_type": "stream",
     "text": [
      "unique chars: 59\n"
     ]
    }
   ],
   "source": [
    "chars = sorted(list(set(text)))\n",
    "char_indices = dict((c, i) for i, c in enumerate(chars))\n",
    "indices_char = dict((i, c) for i, c in enumerate(chars))\n",
    "print(f'unique chars: {len(chars)}')"
   ]
  },
  {
   "cell_type": "markdown",
   "metadata": {},
   "source": [
    "A través de la Ingeniería Funcional, la cuál es el proceso de creación de nuevas funciones a partir de datos sin procesar para aumentar el poder predictivo del algoritmo de aprendizaje, se definirá una longitud de palabra que representará el número de palabras anteriores las cuales determinarán la siguiente palabra. \n",
    "\n",
    "Asimismo definimos palabras previas para mantener cinco palabras anteriores y sus siguientes palabras correspondientes en la lista de palabras siguientes."
   ]
  },
  {
   "cell_type": "code",
   "execution_count": 4,
   "metadata": {},
   "outputs": [
    {
     "name": "stdout",
     "output_type": "stream",
     "text": [
      "num training examples: 117004\n"
     ]
    }
   ],
   "source": [
    "SEQUENCE_LENGTH = 40\n",
    "step = 3\n",
    "sentences = []\n",
    "next_chars = []\n",
    "for i in range(0, len(text) - SEQUENCE_LENGTH, step):\n",
    "    sentences.append(text[i: i + SEQUENCE_LENGTH])\n",
    "    next_chars.append(text[i + SEQUENCE_LENGTH])\n",
    "print(f'num training examples: {len(sentences)}')"
   ]
  },
  {
   "cell_type": "markdown",
   "metadata": {},
   "source": [
    "### <a id='tokenizacion'>Tokenización</a>\n",
    "\n",
    "Antes de realizar una tarea de PLN hay que normalizar el texto, esto incluye 3 actividades:\n",
    "\n",
    "1. Segmentación/tokenización de las palabras.\n",
    "2. Normalización del formato de las plabras\n",
    "3. Segmentación de las oraciones en el texto.\n",
    "\n",
    "Algunos conceptos:\n",
    "\n",
    "* Lema (Lemma): Palabras que comparten un tronco común, que hacen referencia al mismo concepto básico\n",
    "\n",
    "    Ejemplo: gato, gatos, gata son palabras con el mismo lema.\n",
    "    \n",
    "\n",
    "* Forma de la palabra (Wordform): La forma completa de la palabra.\n",
    "\n",
    "    Ejemplo: gato, gatos, gata son palabras con distinta forma (different wordform)\n",
    "    \n",
    "\n",
    "* Tipo (Type): Un elemento del vocabulario.\n",
    "\n",
    " \n",
    "* Token: Una instancia de un tipo en un texto dado.\n",
    "\n",
    "\n",
    "Se realiza la tokenización del corpus/dataset en cada palabra que lo compone excluyendo la presencia de caracteres especiales."
   ]
  },
  {
   "cell_type": "code",
   "execution_count": 5,
   "metadata": {},
   "outputs": [],
   "source": [
    "X = np.zeros((len(sentences), SEQUENCE_LENGTH, len(chars)), dtype=np.bool)\n",
    "y = np.zeros((len(sentences), len(chars)), dtype=np.bool)\n",
    "for i, sentence in enumerate(sentences):\n",
    "    for t, char in enumerate(sentence):\n",
    "        X[i, t, char_indices[char]] = 1\n",
    "    y[i, char_indices[next_chars[i]]] = 1"
   ]
  },
  {
   "cell_type": "code",
   "execution_count": 6,
   "metadata": {},
   "outputs": [
    {
     "data": {
      "text/plain": [
       "' de seda, como queriendo medir con justo'"
      ]
     },
     "execution_count": 6,
     "metadata": {},
     "output_type": "execute_result"
    }
   ],
   "source": [
    "sentences[100]"
   ]
  },
  {
   "cell_type": "code",
   "execution_count": 7,
   "metadata": {},
   "outputs": [
    {
     "data": {
      "text/plain": [
       "' '"
      ]
     },
     "execution_count": 7,
     "metadata": {},
     "output_type": "execute_result"
    }
   ],
   "source": [
    "next_chars[100]"
   ]
  },
  {
   "cell_type": "code",
   "execution_count": 8,
   "metadata": {},
   "outputs": [
    {
     "data": {
      "text/plain": [
       "array([False, False, False, False, False, False, False,  True, False,\n",
       "       False, False, False, False, False, False, False, False, False,\n",
       "       False, False, False, False, False, False, False, False, False,\n",
       "       False, False, False, False, False, False, False, False, False,\n",
       "       False, False, False, False, False, False, False, False, False,\n",
       "       False, False, False, False, False, False, False, False, False,\n",
       "       False, False, False, False, False])"
      ]
     },
     "execution_count": 8,
     "metadata": {},
     "output_type": "execute_result"
    }
   ],
   "source": [
    "X[0][0]"
   ]
  },
  {
   "cell_type": "code",
   "execution_count": 9,
   "metadata": {},
   "outputs": [
    {
     "data": {
      "text/plain": [
       "array([False, False, False, False, False, False, False, False, False,\n",
       "       False, False, False, False, False, False, False, False, False,\n",
       "       False, False, False, False, False, False, False, False, False,\n",
       "       False, False, False, False, False, False, False, False, False,\n",
       "       False, False, False, False, False,  True, False, False, False,\n",
       "       False, False, False, False, False, False, False, False, False,\n",
       "       False, False, False, False, False])"
      ]
     },
     "execution_count": 9,
     "metadata": {},
     "output_type": "execute_result"
    }
   ],
   "source": [
    "y[0]"
   ]
  },
  {
   "cell_type": "code",
   "execution_count": 10,
   "metadata": {},
   "outputs": [
    {
     "data": {
      "text/plain": [
       "(117004, 40, 59)"
      ]
     },
     "execution_count": 10,
     "metadata": {},
     "output_type": "execute_result"
    }
   ],
   "source": [
    "X.shape"
   ]
  },
  {
   "cell_type": "code",
   "execution_count": 11,
   "metadata": {},
   "outputs": [
    {
     "data": {
      "text/plain": [
       "(117004, 59)"
      ]
     },
     "execution_count": 11,
     "metadata": {},
     "output_type": "execute_result"
    }
   ],
   "source": [
    "y.shape"
   ]
  },
  {
   "cell_type": "markdown",
   "metadata": {},
   "source": [
    "### <a id='modelo'>Modelo</a>\n",
    "\n",
    "Para el modelo de predicción de palabra haremos uso de Redes Neuronales Recurrentes (RNN - Recurrent Neural Networks), en este caso muy particular la arquitectura de aprendizaje profundo LSTM (long short-term memory).\n",
    "\n",
    "Las RNN son aplicables a cualquier dato que ocurre en una secuencia tales como las series de tiempo financieras, niveles de inventario, tráfico y el clima; esencialmente todo lo que involucre modelos de predicciones.\n",
    "\n"
   ]
  },
  {
   "cell_type": "markdown",
   "metadata": {},
   "source": [
    "<img src=\"./Data/dl.png\">\n",
    "<div align=\"center\">Figura 2. Deep Learning</div>"
   ]
  },
  {
   "cell_type": "markdown",
   "metadata": {},
   "source": [
    "Las redes LSTM fueron introducidas por Sepp Hochreiter y Jürgen Schmidhuber en 1997, pero hoy en día se utilizan más ampliamente en aplicaciones de aprendizaje profundo de Procesamiento de Lenguaje Natural (PNL/NLP). \n",
    "\n",
    "La estructura básica de una capa LSTM es la misma que la de las capas recurrentes simples, reciben entradas de la secuencia de datos (por ejemplo, un token particular de un documento en lenguaje natural) y también reciben entradas del punto de tiempo anterior en la secuencia. \n",
    "\n",
    "La diferencia es que dentro de cada celda en una capa recurrente simple (por ejemplo, SimpleRNN () en Keras), encontrará una única función de activación de red neuronal, como una función tanh, que transforma las entradas de la celda RNN para generar su salida. \n",
    "\n",
    "En contraste, las celdas de una capa LSTM contienen una estructura mucho más compleja, poseen conexiones de retroalimentación a diferencia de las redes más tradicionales \"feed forward\"."
   ]
  },
  {
   "cell_type": "markdown",
   "metadata": {},
   "source": [
    "### <a id='entrenamiento'>Modelo: Entrenamiento</a>\n",
    "\n",
    "Como parte de la implementación del modelo se decidió por el optimizador RMSprop (root mean square propagation) el cuál fue desarrollado por Geoff Hinton aproximadamente al mismo tiempo que AdaDelta.\n",
    "\n",
    "Funciona de manera similar excepto que retiene el parámetro de tasa de aprendizaje η. Tanto RMSProp como AdaDelta implican un hiperparámetro adicional ρ (rho), o tasa de decaimiento, que es análogo al valor β del impulso y que guía el tamaño de la ventana para la media móvil. Los valores recomendados para los hiperparámetros son ρ = 0.95 para ambos optimizadores y el ajuste η = 0.001 para RMSProp."
   ]
  },
  {
   "cell_type": "code",
   "execution_count": 12,
   "metadata": {},
   "outputs": [],
   "source": [
    "model = Sequential()\n",
    "model.add(LSTM(128, input_shape=(SEQUENCE_LENGTH, len(chars))))\n",
    "model.add(Dense(len(chars)))\n",
    "model.add(Activation('softmax'))"
   ]
  },
  {
   "cell_type": "code",
   "execution_count": 13,
   "metadata": {},
   "outputs": [],
   "source": [
    "optimizer = RMSprop(learning_rate=0.01)\n",
    "model.compile(loss='categorical_crossentropy', optimizer=optimizer, metrics=['accuracy'])\n"
   ]
  },
  {
   "cell_type": "code",
   "execution_count": 14,
   "metadata": {},
   "outputs": [
    {
     "name": "stdout",
     "output_type": "stream",
     "text": [
      "Train on 111153 samples, validate on 5851 samples\n",
      "Epoch 1/20\n",
      "111104/111153 [============================>.] - ETA: 0s - loss: 2.0569 - accuracy: 0.3787"
     ]
    },
    {
     "name": "stderr",
     "output_type": "stream",
     "text": [
      "/home/betanzos/.local/lib/python3.8/site-packages/keras/engine/training.py:2470: UserWarning: `Model.state_updates` will be removed in a future version. This property should not be used in TensorFlow 2.0, as `updates` are applied automatically.\n",
      "  warnings.warn('`Model.state_updates` will be removed in a future version. '\n"
     ]
    },
    {
     "name": "stdout",
     "output_type": "stream",
     "text": [
      "111153/111153 [==============================] - 50s 453us/sample - loss: 2.0567 - accuracy: 0.3788 - val_loss: 1.8141 - val_accuracy: 0.4563\n",
      "Epoch 2/20\n",
      "111153/111153 [==============================] - 50s 448us/sample - loss: 1.6975 - accuracy: 0.4835 - val_loss: 1.6599 - val_accuracy: 0.4979\n",
      "Epoch 3/20\n",
      "111153/111153 [==============================] - 50s 454us/sample - loss: 1.5648 - accuracy: 0.5236 - val_loss: 1.5903 - val_accuracy: 0.5203\n",
      "Epoch 4/20\n",
      "111153/111153 [==============================] - 50s 446us/sample - loss: 1.4882 - accuracy: 0.5468 - val_loss: 1.5588 - val_accuracy: 0.5351\n",
      "Epoch 5/20\n",
      "111153/111153 [==============================] - 53s 474us/sample - loss: 1.4357 - accuracy: 0.5596 - val_loss: 1.5465 - val_accuracy: 0.5348\n",
      "Epoch 6/20\n",
      "111153/111153 [==============================] - 61s 551us/sample - loss: 1.3979 - accuracy: 0.5712 - val_loss: 1.5478 - val_accuracy: 0.5449\n",
      "Epoch 7/20\n",
      "111153/111153 [==============================] - 48s 436us/sample - loss: 1.3676 - accuracy: 0.5777 - val_loss: 1.5399 - val_accuracy: 0.5464\n",
      "Epoch 8/20\n",
      "111153/111153 [==============================] - 44s 397us/sample - loss: 1.3437 - accuracy: 0.5849 - val_loss: 1.5439 - val_accuracy: 0.5476\n",
      "Epoch 9/20\n",
      "111153/111153 [==============================] - 42s 374us/sample - loss: 1.3239 - accuracy: 0.5910 - val_loss: 1.5530 - val_accuracy: 0.5473\n",
      "Epoch 10/20\n",
      "111153/111153 [==============================] - 44s 395us/sample - loss: 1.3070 - accuracy: 0.5950 - val_loss: 1.5501 - val_accuracy: 0.5543\n",
      "Epoch 11/20\n",
      "111153/111153 [==============================] - 44s 397us/sample - loss: 1.2954 - accuracy: 0.5983 - val_loss: 1.5564 - val_accuracy: 0.5474\n",
      "Epoch 12/20\n",
      "111153/111153 [==============================] - 42s 382us/sample - loss: 1.2846 - accuracy: 0.6008 - val_loss: 1.5599 - val_accuracy: 0.5481\n",
      "Epoch 13/20\n",
      "111153/111153 [==============================] - 41s 365us/sample - loss: 1.2717 - accuracy: 0.6041 - val_loss: 1.5742 - val_accuracy: 0.5469\n",
      "Epoch 14/20\n",
      "111153/111153 [==============================] - 41s 368us/sample - loss: 1.2670 - accuracy: 0.6069 - val_loss: 1.5590 - val_accuracy: 0.5444\n",
      "Epoch 15/20\n",
      "111153/111153 [==============================] - 42s 380us/sample - loss: 1.2571 - accuracy: 0.6098 - val_loss: 1.5647 - val_accuracy: 0.5551\n",
      "Epoch 16/20\n",
      "111153/111153 [==============================] - 42s 379us/sample - loss: 1.2487 - accuracy: 0.6108 - val_loss: 1.5727 - val_accuracy: 0.5445\n",
      "Epoch 17/20\n",
      "111153/111153 [==============================] - 48s 436us/sample - loss: 1.2424 - accuracy: 0.6130 - val_loss: 1.5601 - val_accuracy: 0.5524\n",
      "Epoch 18/20\n",
      "111153/111153 [==============================] - 42s 379us/sample - loss: 1.2342 - accuracy: 0.6151 - val_loss: 1.5713 - val_accuracy: 0.5546\n",
      "Epoch 19/20\n",
      "111153/111153 [==============================] - 41s 366us/sample - loss: 1.2285 - accuracy: 0.6161 - val_loss: 1.5743 - val_accuracy: 0.5450\n",
      "Epoch 20/20\n",
      "111153/111153 [==============================] - 42s 375us/sample - loss: 1.2221 - accuracy: 0.6174 - val_loss: 1.5762 - val_accuracy: 0.5478\n"
     ]
    }
   ],
   "source": [
    "history = model.fit(X, y, validation_split=0.05, batch_size=128, epochs=20, shuffle=True).history"
   ]
  },
  {
   "cell_type": "code",
   "execution_count": 15,
   "metadata": {},
   "outputs": [],
   "source": [
    "model.save('keras_model_char.h5')\n",
    "pickle.dump(history, open(\"history.p\", \"wb\"))"
   ]
  },
  {
   "cell_type": "code",
   "execution_count": 16,
   "metadata": {},
   "outputs": [],
   "source": [
    "model = load_model('keras_model_char.h5')\n",
    "history = pickle.load(open(\"history.p\", \"rb\"))"
   ]
  },
  {
   "cell_type": "markdown",
   "metadata": {},
   "source": [
    "### <a id='evaluacion'>Modelo: Evaluación</a>\n",
    "\n",
    "A continuación se muestra la evaluación del modelo generado a partir del corpus mencionado previamente.\n",
    "\n",
    "Como observamos en las gráficas de precisión y pérdida, la compilación del modelo alcanza niveles medianamente satisfactorios."
   ]
  },
  {
   "cell_type": "code",
   "execution_count": 17,
   "metadata": {},
   "outputs": [
    {
     "data": {
      "image/png": "[encoded data removed]",
      "text/plain": [
       "<Figure size 864x360 with 1 Axes>"
      ]
     },
     "metadata": {},
     "output_type": "display_data"
    }
   ],
   "source": [
    "plt.plot(history['accuracy'])\n",
    "plt.plot(history['val_accuracy'])\n",
    "plt.title('model accuracy')\n",
    "plt.ylabel('accuracy')\n",
    "plt.xlabel('epoch')\n",
    "plt.legend(['train', 'test'], loc='upper left');"
   ]
  },
  {
   "cell_type": "code",
   "execution_count": 18,
   "metadata": {},
   "outputs": [
    {
     "data": {
      "image/png": "[encoded data removed]",
      "text/plain": [
       "<Figure size 864x360 with 1 Axes>"
      ]
     },
     "metadata": {},
     "output_type": "display_data"
    }
   ],
   "source": [
    "plt.plot(history['loss'])\n",
    "plt.plot(history['val_loss'])\n",
    "plt.title('model loss')\n",
    "plt.ylabel('loss')\n",
    "plt.xlabel('epoch')\n",
    "plt.legend(['train', 'test'], loc='upper left');"
   ]
  },
  {
   "cell_type": "code",
   "execution_count": 19,
   "metadata": {},
   "outputs": [],
   "source": [
    "def prepare_input(text):\n",
    "    x = np.zeros((1, SEQUENCE_LENGTH, len(chars)))\n",
    "    for t, char in enumerate(text):\n",
    "        x[0, t, char_indices[char]] = 1.\n",
    "    return x"
   ]
  },
  {
   "cell_type": "markdown",
   "metadata": {},
   "source": [
    "La pieza de código (arriba) se utiliza para preparar tensor utilizando partiendo del valor SEQUENCE_LENGTH (longitud de la secuencia/enunciado), tomando en cuenta la lista char_indices."
   ]
  },
  {
   "cell_type": "code",
   "execution_count": 20,
   "metadata": {},
   "outputs": [
    {
     "data": {
      "text/plain": [
       "array([[[0., 0., 0., ..., 0., 0., 0.],\n",
       "        [0., 0., 0., ..., 0., 0., 0.],\n",
       "        [0., 0., 0., ..., 0., 0., 0.],\n",
       "        ...,\n",
       "        [0., 0., 0., ..., 0., 0., 0.],\n",
       "        [0., 0., 0., ..., 0., 0., 0.],\n",
       "        [0., 0., 0., ..., 0., 0., 0.]]])"
      ]
     },
     "execution_count": 20,
     "metadata": {},
     "output_type": "execute_result"
    }
   ],
   "source": [
    "prepare_input(\"This is an example of input for our LSTM\".lower())"
   ]
  },
  {
   "cell_type": "code",
   "execution_count": 21,
   "metadata": {},
   "outputs": [],
   "source": [
    "def sample(preds, top_n=3):\n",
    "    preds = np.asarray(preds).astype('float64')\n",
    "    preds = np.log(preds)\n",
    "    exp_preds = np.exp(preds)\n",
    "    preds = exp_preds / np.sum(exp_preds)\n",
    "    return heapq.nlargest(top_n, range(len(preds)), preds.take)"
   ]
  },
  {
   "cell_type": "code",
   "execution_count": 22,
   "metadata": {},
   "outputs": [],
   "source": [
    "def predict_completion(text):\n",
    "    original_text = text\n",
    "    generated = text\n",
    "    completion = ''\n",
    "    while True:\n",
    "        x = prepare_input(text)\n",
    "        preds = model.predict(x, verbose=0)[0]\n",
    "        next_index = sample(preds, top_n=1)[0]\n",
    "        next_char = indices_char[next_index]\n",
    "        text = text[1:] + next_char\n",
    "        completion += next_char\n",
    "        if len(original_text + completion) + 2 > len(original_text) and next_char == ' ':\n",
    "            return completion"
   ]
  },
  {
   "cell_type": "code",
   "execution_count": 23,
   "metadata": {},
   "outputs": [],
   "source": [
    "def predict_completions(text, n=3):\n",
    "    x = prepare_input(text)\n",
    "    preds = model.predict(x, verbose=0)[0]\n",
    "    next_indices = sample(preds, n)\n",
    "    return [indices_char[idx] + predict_completion(text[1:] + indices_char[idx]) for idx in next_indices]"
   ]
  },
  {
   "cell_type": "markdown",
   "metadata": {},
   "source": [
    "A través de la función predict_completions se realizará la predicción de la palabra, utilizando a su vez las funciones predict_completion y sample.\n",
    "\n",
    "* sample. Regresará un arreglo con las probabilidades de la palabra más probable a ser predicha\n",
    "* predict_completion. Recibe la entrada de la predicción hasta el primer espacio, en caso de que la palabra esté incompleta retornará el resto de la palabra."
   ]
  },
  {
   "cell_type": "code",
   "execution_count": 24,
   "metadata": {},
   "outputs": [],
   "source": [
    "quotes = [\n",
    "    \"El brutal encuentro duró sólo algunos instantes.\",\n",
    "    \"Para eso había entrado él en la Guardia Real.\",\n",
    "    \"Con qué elocuencia sabía hablar a sus compañeros para decidirles a que desenvainaran su espada contra el Gobierno\",\n",
    "    \"Cuatro batallones de la Guardia Real salieron aquella misma noche de Madrid, mandados por oficiales jóvenes y de poca graduación, pues el que más, era capitán.\",\n",
    "    \"Se esperaban graves acontecimientos para dentro de breves horas.\"\n",
    "]"
   ]
  },
  {
   "cell_type": "markdown",
   "metadata": {},
   "source": [
    "### <a id='pruebas'>Modelo: Pruebas</a>\n"
   ]
  },
  {
   "cell_type": "code",
   "execution_count": 25,
   "metadata": {},
   "outputs": [
    {
     "name": "stdout",
     "output_type": "stream",
     "text": [
      "el brutal encuentro duró sólo algunos in\n",
      "['stantes, ', 'teresas ', 'formes ', 'distaleras ', 'vidares ']\n",
      "\n",
      "para eso había entrado él en la guardia \n",
      "['de ', 'y ', 'se ', 'con ', 'para ']\n",
      "\n",
      "con qué elocuencia sabía hablar a sus co\n",
      "['legios ', 'mpañeros ', 'rres ', 'ntempas ', 'sas ']\n",
      "\n",
      "cuatro batallones de la guardia real sal\n",
      "['iendo ', 'dado ', 'ona. ', 'ón ', 'taba ']\n",
      "\n",
      "se esperaban graves acontecimientos para\n",
      "[' algunos ', 'n ', 'chando ', 's ', 'l ']\n",
      "\n"
     ]
    }
   ],
   "source": [
    "for q in quotes:\n",
    "    seq = q[:40].lower()\n",
    "    print(seq)\n",
    "    print(predict_completions(seq, 5))\n",
    "    print()"
   ]
  },
  {
   "cell_type": "markdown",
   "metadata": {},
   "source": [
    "### <a id='conclusiones'>Conclusiones</a>\n",
    "\n",
    "Con el propósito de dar a conocer el estado actual del Procesamiento del Lenguaje Natural se han definido, de forma muy concisa, los principales conceptos y técnicas asociados a esta disciplina, que además se ha desarrollado a lo largo de este proyecto escolar.\n",
    "\n",
    "Así mismo, se ha comprobado que el PLN es una disciplina viva y en pleno desarrollo, con multitud de retos que superar fruto de la ambigüedad subyacente al lenguaje natural. El empleo del lenguaje le permite al hombre trasmitir sus conocimientos, sentimientos, sensaciones, emociones, y estados de ánimo, por lo que han sido varios los sistemas informáticos inteligentes que se han desarrollado y continuan en evolución continua que emplean el procesamiento del lenguaje natural, para una mayor comprensión y mejoría en el ámbito de las tecnologías de información."
   ]
  }
 ],
 "metadata": {
  "kernelspec": {
   "display_name": "Python 3",
   "language": "python",
   "name": "python3"
  },
  "language_info": {
   "codemirror_mode": {
    "name": "ipython",
    "version": 3
   },
   "file_extension": ".py",
   "mimetype": "text/x-python",
   "name": "python",
   "nbconvert_exporter": "python",
   "pygments_lexer": "ipython3",
   "version": "3.8.10"
  }
 },
 "nbformat": 4,
 "nbformat_minor": 5
}
