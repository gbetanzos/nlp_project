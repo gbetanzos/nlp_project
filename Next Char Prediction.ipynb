{
 "cells": [
  {
   "cell_type": "code",
   "execution_count": 1,
   "id": "3aa6510d",
   "metadata": {},
   "outputs": [],
   "source": [
    "import numpy as np\n",
    "np.random.seed(42)\n",
    "import tensorflow as tf\n",
    "tf.random.set_seed(42)\n",
    "from keras.models import Sequential, load_model\n",
    "from keras.layers import Dense, Activation\n",
    "from keras.layers import LSTM, Dropout\n",
    "from keras.layers import TimeDistributed\n",
    "from keras.layers.core import Dense, Activation, Dropout, RepeatVector\n",
    "from keras.optimizers import RMSprop\n",
    "import matplotlib.pyplot as plt\n",
    "import pickle\n",
    "import sys\n",
    "import heapq\n",
    "import seaborn as sns\n",
    "from pylab import rcParams\n",
    "%matplotlib inline\n",
    "sns.set(style='whitegrid', palette='muted', font_scale=1.5)\n",
    "rcParams['figure.figsize'] = 12, 5"
   ]
  },
  {
   "cell_type": "code",
   "execution_count": 2,
   "id": "4e3c1269",
   "metadata": {},
   "outputs": [
    {
     "name": "stdout",
     "output_type": "stream",
     "text": [
      "corpus length: 351052\n"
     ]
    }
   ],
   "source": [
    "path = 'araña.txt'\n",
    "text = open(path, 'r', encoding='utf-8').read().replace('\\n', ' ').lower()\n",
    "print('corpus length:', len(text))"
   ]
  },
  {
   "cell_type": "code",
   "execution_count": 3,
   "id": "83ccb251",
   "metadata": {},
   "outputs": [
    {
     "name": "stdout",
     "output_type": "stream",
     "text": [
      "unique chars: 59\n"
     ]
    }
   ],
   "source": [
    "chars = sorted(list(set(text)))\n",
    "char_indices = dict((c, i) for i, c in enumerate(chars))\n",
    "indices_char = dict((i, c) for i, c in enumerate(chars))\n",
    "print(f'unique chars: {len(chars)}')"
   ]
  },
  {
   "cell_type": "code",
   "execution_count": 4,
   "id": "942e4fe6",
   "metadata": {},
   "outputs": [
    {
     "name": "stdout",
     "output_type": "stream",
     "text": [
      "num training examples: 117004\n"
     ]
    }
   ],
   "source": [
    "SEQUENCE_LENGTH = 40\n",
    "step = 3\n",
    "sentences = []\n",
    "next_chars = []\n",
    "for i in range(0, len(text) - SEQUENCE_LENGTH, step):\n",
    "    sentences.append(text[i: i + SEQUENCE_LENGTH])\n",
    "    next_chars.append(text[i + SEQUENCE_LENGTH])\n",
    "print(f'num training examples: {len(sentences)}')"
   ]
  },
  {
   "cell_type": "code",
   "execution_count": 5,
   "id": "cc8c3e70",
   "metadata": {},
   "outputs": [],
   "source": [
    "X = np.zeros((len(sentences), SEQUENCE_LENGTH, len(chars)), dtype=np.bool)\n",
    "y = np.zeros((len(sentences), len(chars)), dtype=np.bool)\n",
    "for i, sentence in enumerate(sentences):\n",
    "    for t, char in enumerate(sentence):\n",
    "        X[i, t, char_indices[char]] = 1\n",
    "    y[i, char_indices[next_chars[i]]] = 1"
   ]
  },
  {
   "cell_type": "code",
   "execution_count": 6,
   "id": "1944ea80",
   "metadata": {},
   "outputs": [
    {
     "data": {
      "text/plain": [
       "' de seda, como queriendo medir con justo'"
      ]
     },
     "execution_count": 6,
     "metadata": {},
     "output_type": "execute_result"
    }
   ],
   "source": [
    "sentences[100]"
   ]
  },
  {
   "cell_type": "code",
   "execution_count": 7,
   "id": "7c5d642a",
   "metadata": {},
   "outputs": [
    {
     "data": {
      "text/plain": [
       "' '"
      ]
     },
     "execution_count": 7,
     "metadata": {},
     "output_type": "execute_result"
    }
   ],
   "source": [
    "next_chars[100]"
   ]
  },
  {
   "cell_type": "code",
   "execution_count": 8,
   "id": "19d0139a",
   "metadata": {},
   "outputs": [
    {
     "data": {
      "text/plain": [
       "array([False, False, False, False, False, False, False,  True, False,\n",
       "       False, False, False, False, False, False, False, False, False,\n",
       "       False, False, False, False, False, False, False, False, False,\n",
       "       False, False, False, False, False, False, False, False, False,\n",
       "       False, False, False, False, False, False, False, False, False,\n",
       "       False, False, False, False, False, False, False, False, False,\n",
       "       False, False, False, False, False])"
      ]
     },
     "execution_count": 8,
     "metadata": {},
     "output_type": "execute_result"
    }
   ],
   "source": [
    "X[0][0]"
   ]
  },
  {
   "cell_type": "code",
   "execution_count": 9,
   "id": "0dde4120",
   "metadata": {},
   "outputs": [
    {
     "data": {
      "text/plain": [
       "array([False, False, False, False, False, False, False, False, False,\n",
       "       False, False, False, False, False, False, False, False, False,\n",
       "       False, False, False, False, False, False, False, False, False,\n",
       "       False, False, False, False, False, False, False, False, False,\n",
       "       False, False, False, False, False,  True, False, False, False,\n",
       "       False, False, False, False, False, False, False, False, False,\n",
       "       False, False, False, False, False])"
      ]
     },
     "execution_count": 9,
     "metadata": {},
     "output_type": "execute_result"
    }
   ],
   "source": [
    "y[0]"
   ]
  },
  {
   "cell_type": "code",
   "execution_count": 10,
   "id": "edbe2cea",
   "metadata": {},
   "outputs": [
    {
     "data": {
      "text/plain": [
       "(117004, 40, 59)"
      ]
     },
     "execution_count": 10,
     "metadata": {},
     "output_type": "execute_result"
    }
   ],
   "source": [
    "X.shape"
   ]
  },
  {
   "cell_type": "code",
   "execution_count": 11,
   "id": "1ef2208b",
   "metadata": {},
   "outputs": [
    {
     "data": {
      "text/plain": [
       "(117004, 59)"
      ]
     },
     "execution_count": 11,
     "metadata": {},
     "output_type": "execute_result"
    }
   ],
   "source": [
    "y.shape"
   ]
  },
  {
   "cell_type": "code",
   "execution_count": 12,
   "id": "1913ad69",
   "metadata": {},
   "outputs": [],
   "source": [
    "model = Sequential()\n",
    "model.add(LSTM(128, input_shape=(SEQUENCE_LENGTH, len(chars))))\n",
    "model.add(Dense(len(chars)))\n",
    "model.add(Activation('softmax'))"
   ]
  },
  {
   "cell_type": "code",
   "execution_count": 13,
   "id": "f5573319",
   "metadata": {},
   "outputs": [],
   "source": [
    "optimizer = RMSprop(learning_rate=0.01)\n",
    "model.compile(loss='categorical_crossentropy', optimizer=optimizer, metrics=['accuracy'])\n"
   ]
  },
  {
   "cell_type": "code",
   "execution_count": 14,
   "id": "1fd6bb43",
   "metadata": {},
   "outputs": [
    {
     "name": "stdout",
     "output_type": "stream",
     "text": [
      "Epoch 1/20\n",
      "869/869 [==============================] - 221s 181ms/step - loss: 2.3651 - accuracy: 0.3078 - val_loss: 1.8435 - val_accuracy: 0.4464\n",
      "Epoch 2/20\n",
      "869/869 [==============================] - 153s 176ms/step - loss: 1.7328 - accuracy: 0.4738 - val_loss: 1.6702 - val_accuracy: 0.5011\n",
      "Epoch 3/20\n",
      "869/869 [==============================] - 156s 180ms/step - loss: 1.5650 - accuracy: 0.5244 - val_loss: 1.5879 - val_accuracy: 0.5250\n",
      "Epoch 4/20\n",
      "869/869 [==============================] - 154s 177ms/step - loss: 1.4749 - accuracy: 0.5518 - val_loss: 1.5675 - val_accuracy: 0.5334\n",
      "Epoch 5/20\n",
      "869/869 [==============================] - 160s 185ms/step - loss: 1.4163 - accuracy: 0.5638 - val_loss: 1.5374 - val_accuracy: 0.5385\n",
      "Epoch 6/20\n",
      "869/869 [==============================] - 152s 175ms/step - loss: 1.3744 - accuracy: 0.5775 - val_loss: 1.5413 - val_accuracy: 0.5445\n",
      "Epoch 7/20\n",
      "869/869 [==============================] - 151s 174ms/step - loss: 1.3436 - accuracy: 0.5846 - val_loss: 1.5367 - val_accuracy: 0.5425\n",
      "Epoch 8/20\n",
      "869/869 [==============================] - 150s 173ms/step - loss: 1.3115 - accuracy: 0.5942 - val_loss: 1.5310 - val_accuracy: 0.5440\n",
      "Epoch 9/20\n",
      "869/869 [==============================] - 154s 177ms/step - loss: 1.2975 - accuracy: 0.5980 - val_loss: 1.5458 - val_accuracy: 0.5490\n",
      "Epoch 10/20\n",
      "869/869 [==============================] - 152s 175ms/step - loss: 1.2819 - accuracy: 0.6023 - val_loss: 1.5530 - val_accuracy: 0.5531\n",
      "Epoch 11/20\n",
      "869/869 [==============================] - 154s 177ms/step - loss: 1.2674 - accuracy: 0.6077 - val_loss: 1.5560 - val_accuracy: 0.5478\n",
      "Epoch 12/20\n",
      "869/869 [==============================] - 152s 175ms/step - loss: 1.2504 - accuracy: 0.6115 - val_loss: 1.5544 - val_accuracy: 0.5524\n",
      "Epoch 13/20\n",
      "869/869 [==============================] - 151s 174ms/step - loss: 1.2397 - accuracy: 0.6153 - val_loss: 1.5820 - val_accuracy: 0.5385\n",
      "Epoch 14/20\n",
      "869/869 [==============================] - 151s 174ms/step - loss: 1.2317 - accuracy: 0.6144 - val_loss: 1.5701 - val_accuracy: 0.5473\n",
      "Epoch 15/20\n",
      "869/869 [==============================] - 151s 174ms/step - loss: 1.2266 - accuracy: 0.6166 - val_loss: 1.5635 - val_accuracy: 0.5570\n",
      "Epoch 16/20\n",
      "869/869 [==============================] - 164s 189ms/step - loss: 1.2152 - accuracy: 0.6215 - val_loss: 1.5726 - val_accuracy: 0.5423cura\n",
      "Epoch 17/20\n",
      "869/869 [==============================] - 166s 191ms/step - loss: 1.2085 - accuracy: 0.6236 - val_loss: 1.5713 - val_accuracy: 0.5455\n",
      "Epoch 18/20\n",
      "869/869 [==============================] - 151s 173ms/step - loss: 1.2000 - accuracy: 0.6259 - val_loss: 1.5765 - val_accuracy: 0.5536\n",
      "Epoch 19/20\n",
      "869/869 [==============================] - 145s 166ms/step - loss: 1.1929 - accuracy: 0.6272 - val_loss: 1.5644 - val_accuracy: 0.5476\n",
      "Epoch 20/20\n",
      "869/869 [==============================] - 67s 77ms/step - loss: 1.1840 - accuracy: 0.6303 - val_loss: 1.5818 - val_accuracy: 0.5481\n"
     ]
    }
   ],
   "source": [
    "history = model.fit(X, y, validation_split=0.05, batch_size=128, epochs=20, shuffle=True).history"
   ]
  },
  {
   "cell_type": "code",
   "execution_count": 15,
   "id": "83bcb69f",
   "metadata": {},
   "outputs": [],
   "source": [
    "model.save('keras_model_char.h5')\n",
    "pickle.dump(history, open(\"history.p\", \"wb\"))"
   ]
  },
  {
   "cell_type": "code",
   "execution_count": 17,
   "id": "aa2e1ca2",
   "metadata": {},
   "outputs": [],
   "source": [
    "model = load_model('keras_model_char.h5')\n",
    "history = pickle.load(open(\"history.p\", \"rb\"))"
   ]
  },
  {
   "cell_type": "code",
   "execution_count": 21,
   "id": "7e1f3488",
   "metadata": {},
   "outputs": [
    {
     "data": {
      "image/png": "[encoded data removed]",
      "text/plain": [
       "<Figure size 864x360 with 1 Axes>"
      ]
     },
     "metadata": {},
     "output_type": "display_data"
    }
   ],
   "source": [
    "plt.plot(history['accuracy'])\n",
    "plt.plot(history['val_accuracy'])\n",
    "plt.title('model accuracy')\n",
    "plt.ylabel('accuracy')\n",
    "plt.xlabel('epoch')\n",
    "plt.legend(['train', 'test'], loc='upper left');"
   ]
  },
  {
   "cell_type": "code",
   "execution_count": 22,
   "id": "e09175c2",
   "metadata": {},
   "outputs": [
    {
     "data": {
      "image/png": "[encoded data removed]",
      "text/plain": [
       "<Figure size 864x360 with 1 Axes>"
      ]
     },
     "metadata": {},
     "output_type": "display_data"
    }
   ],
   "source": [
    "plt.plot(history['loss'])\n",
    "plt.plot(history['val_loss'])\n",
    "plt.title('model loss')\n",
    "plt.ylabel('loss')\n",
    "plt.xlabel('epoch')\n",
    "plt.legend(['train', 'test'], loc='upper left');"
   ]
  },
  {
   "cell_type": "code",
   "execution_count": 23,
   "id": "eeeec3ff",
   "metadata": {},
   "outputs": [],
   "source": [
    "def prepare_input(text):\n",
    "    x = np.zeros((1, SEQUENCE_LENGTH, len(chars)))\n",
    "    for t, char in enumerate(text):\n",
    "        x[0, t, char_indices[char]] = 1.\n",
    "    return x"
   ]
  },
  {
   "cell_type": "code",
   "execution_count": 25,
   "id": "4030cc82",
   "metadata": {},
   "outputs": [
    {
     "data": {
      "text/plain": [
       "array([[[0., 0., 0., ..., 0., 0., 0.],\n",
       "        [0., 0., 0., ..., 0., 0., 0.],\n",
       "        [0., 0., 0., ..., 0., 0., 0.],\n",
       "        ...,\n",
       "        [0., 0., 0., ..., 0., 0., 0.],\n",
       "        [0., 0., 0., ..., 0., 0., 0.],\n",
       "        [0., 0., 0., ..., 0., 0., 0.]]])"
      ]
     },
     "execution_count": 25,
     "metadata": {},
     "output_type": "execute_result"
    }
   ],
   "source": [
    "prepare_input(\"This is an example of input for our LSTM\".lower())"
   ]
  },
  {
   "cell_type": "code",
   "execution_count": 26,
   "id": "57937db0",
   "metadata": {},
   "outputs": [],
   "source": [
    "def sample(preds, top_n=3):\n",
    "    preds = np.asarray(preds).astype('float64')\n",
    "    preds = np.log(preds)\n",
    "    exp_preds = np.exp(preds)\n",
    "    preds = exp_preds / np.sum(exp_preds)\n",
    "    return heapq.nlargest(top_n, range(len(preds)), preds.take)"
   ]
  },
  {
   "cell_type": "code",
   "execution_count": 27,
   "id": "f2553c73",
   "metadata": {},
   "outputs": [],
   "source": [
    "def predict_completion(text):\n",
    "    original_text = text\n",
    "    generated = text\n",
    "    completion = ''\n",
    "    while True:\n",
    "        x = prepare_input(text)\n",
    "        preds = model.predict(x, verbose=0)[0]\n",
    "        next_index = sample(preds, top_n=1)[0]\n",
    "        next_char = indices_char[next_index]\n",
    "        text = text[1:] + next_char\n",
    "        completion += next_char\n",
    "        if len(original_text + completion) + 2 > len(original_text) and next_char == ' ':\n",
    "            return completion"
   ]
  },
  {
   "cell_type": "code",
   "execution_count": 28,
   "id": "c520f1a6",
   "metadata": {},
   "outputs": [],
   "source": [
    "def predict_completions(text, n=3):\n",
    "    x = prepare_input(text)\n",
    "    preds = model.predict(x, verbose=0)[0]\n",
    "    next_indices = sample(preds, n)\n",
    "    return [indices_char[idx] + predict_completion(text[1:] + indices_char[idx]) for idx in next_indices]"
   ]
  },
  {
   "cell_type": "code",
   "execution_count": 32,
   "id": "98a3de25",
   "metadata": {},
   "outputs": [],
   "source": [
    "quotes = [\n",
    "    \"El brutal encuentro duró sólo algunos instantes.\",\n",
    "    \"Para eso había entrado él en la Guardia Real.\",\n",
    "    \"Con qué elocuencia sabía hablar a sus compañeros para decidirles a que desenvainaran su espada contra el Gobierno\",\n",
    "    \"Cuatro batallones de la Guardia Real salieron aquella misma noche de Madrid, mandados por oficiales jóvenes y de poca graduación, pues el que más, era capitán.\",\n",
    "    \"Se esperaban graves acontecimientos para dentro de breves horas.\"\n",
    "]"
   ]
  },
  {
   "cell_type": "code",
   "execution_count": 33,
   "id": "ad1d9516",
   "metadata": {},
   "outputs": [
    {
     "name": "stdout",
     "output_type": "stream",
     "text": [
      "el brutal encuentro duró sólo algunos in\n",
      "['stantes, ', 'ficantes, ', 'corrementes ', 'teresas ', 'mediatamente ']\n",
      "\n",
      "para eso había entrado él en la guardia \n",
      "['de ', 'y ', 'había ', 'con ', 'en ']\n",
      "\n",
      "con qué elocuencia sabía hablar a sus co\n",
      "['ndesitos ', 'mpasios, ', 'sas ', 'rtes ', 'legios, ']\n",
      "\n",
      "cuatro batallones de la guardia real sal\n",
      "['ientes ', 'de ', 'ían ', ' de ', 'go ']\n",
      "\n",
      "se esperaban graves acontecimientos para\n",
      "[' estar ', 's ', 'ndones ', 'dos ', 'ces ']\n",
      "\n"
     ]
    }
   ],
   "source": [
    "for q in quotes:\n",
    "    seq = q[:40].lower()\n",
    "    print(seq)\n",
    "    print(predict_completions(seq, 5))\n",
    "    print()"
   ]
  },
  {
   "cell_type": "code",
   "execution_count": null,
   "id": "658ead37",
   "metadata": {},
   "outputs": [],
   "source": []
  },
  {
   "cell_type": "code",
   "execution_count": null,
   "id": "ab3e4f28",
   "metadata": {},
   "outputs": [],
   "source": []
  }
 ],
 "metadata": {
  "kernelspec": {
   "display_name": "tf",
   "language": "python",
   "name": "tf"
  },
  "language_info": {
   "codemirror_mode": {
    "name": "ipython",
    "version": 3
   },
   "file_extension": ".py",
   "mimetype": "text/x-python",
   "name": "python",
   "nbconvert_exporter": "python",
   "pygments_lexer": "ipython3",
   "version": "3.7.3"
  }
 },
 "nbformat": 4,
 "nbformat_minor": 5
}
